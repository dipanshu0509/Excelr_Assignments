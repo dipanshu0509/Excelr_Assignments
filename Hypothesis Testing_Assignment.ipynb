{
 "cells": [
  {
   "cell_type": "markdown",
   "id": "98500e6a",
   "metadata": {},
   "source": [
    "## Hypothesis_Testing"
   ]
  },
  {
   "cell_type": "code",
   "execution_count": 8,
   "id": "98f89c1c",
   "metadata": {},
   "outputs": [
    {
     "name": "stdout",
     "output_type": "stream",
     "text": [
      "The theoritical mean is: 4000\n",
      "The sample mean is: 3050\n",
      "Standrad devition is: 125\n",
      "The significance level is:0.05\n",
      "The test stats is: -38.00\n",
      "The critical value(z) is: -1.64\n",
      "The decision is: reject the null hypothesis (H_0)\n",
      "The conclusion is: there is evidence to support the claim that weekly operating costs is higher\n"
     ]
    }
   ],
   "source": [
    "import math\n",
    "from scipy.stats import norm\n",
    "\n",
    "#Defining the data\n",
    "sample_mean=3050\n",
    "theoretical_mean=1000+5 * 600\n",
    "#(theoritcal mean weekly cost W=1000+5X where x is 600)\n",
    "std_dev = 5*25\n",
    "# toatl standard deviation  - 5 multiplied by the std_deviation of units produced )\n",
    "sample_size = 25 \n",
    "# number of restaurant Sample_size\n",
    "alpha=0.05 \n",
    "# alpha is the significance level here\n",
    "\n",
    "# Calculating the test stastics\n",
    "# formula is test_stats=(sample_mean - theoretical_mean)/(std_dev/sqrt(sample_size))\n",
    "test_stats=(sample_mean - theoretical_mean)/(std_dev/math.sqrt(sample_size))\n",
    "\n",
    "#determining the value\n",
    "#z distribution is used for one tailed alpha test = 0.5\n",
    "critical_value = norm.ppf(alpha)\n",
    "\n",
    "\n",
    "#making a decision\n",
    "if test_stats  <critical_value:\n",
    "    decision=\"reject the null hypothesis (H_0)\"\n",
    "    conclusion=\"there is evidence to support the claim that weekly operating costs is higher\"\n",
    "    \n",
    "else:\n",
    "    decision=\"fail to reject the null hypothesis (H_0)\"\n",
    "    conclusion=\"there is no perfect evidence to support the claim that weekly operating costs is higher\"\n",
    "    \n",
    "\n",
    "#Printing the output\n",
    "print(f\"The theoritical mean is: {theoretical_mean}\")\n",
    "print(f\"The sample mean is: {sample_mean}\")      \n",
    "print(f\"Standrad devition is: {std_dev}\")\n",
    "print(f\"The significance level is:{alpha}\")\n",
    "print(f\"The test stats is: {test_stats:.2f}\")\n",
    "print(f\"The critical value(z) is: {critical_value:.2f}\")\n",
    "print(f\"The decision is: {decision}\")\n",
    "print(f\"The conclusion is: {conclusion}\")"
   ]
  },
  {
   "cell_type": "code",
   "execution_count": null,
   "id": "986ba4ee",
   "metadata": {},
   "outputs": [],
   "source": []
  }
 ],
 "metadata": {
  "kernelspec": {
   "display_name": "Python 3 (ipykernel)",
   "language": "python",
   "name": "python3"
  },
  "language_info": {
   "codemirror_mode": {
    "name": "ipython",
    "version": 3
   },
   "file_extension": ".py",
   "mimetype": "text/x-python",
   "name": "python",
   "nbconvert_exporter": "python",
   "pygments_lexer": "ipython3",
   "version": "3.11.5"
  }
 },
 "nbformat": 4,
 "nbformat_minor": 5
}
