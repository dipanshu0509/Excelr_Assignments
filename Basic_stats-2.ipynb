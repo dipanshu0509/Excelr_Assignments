{
 "cells": [
  {
   "cell_type": "code",
   "execution_count": 1,
   "id": "42c85572",
   "metadata": {},
   "outputs": [],
   "source": [
    "import numpy as np\n",
    "from scipy.stats import t"
   ]
  },
  {
   "cell_type": "code",
   "execution_count": 2,
   "id": "3955f698",
   "metadata": {},
   "outputs": [],
   "source": [
    "data = np.array([1.13, 1.55, 1.43, 0.92, 1.25, 1.36, 1.32, 0.85, 1.07, 1.48, 1.20, 1.33, 1.18, 1.22, 1.29])"
   ]
  },
  {
   "cell_type": "code",
   "execution_count": 3,
   "id": "58b0af04",
   "metadata": {},
   "outputs": [],
   "source": [
    "mean_data=np.mean(data)"
   ]
  },
  {
   "cell_type": "code",
   "execution_count": 4,
   "id": "ae4ddcbc",
   "metadata": {},
   "outputs": [],
   "source": [
    "std_data=np.std(data)"
   ]
  },
  {
   "cell_type": "code",
   "execution_count": 5,
   "id": "3f2fbd6a",
   "metadata": {},
   "outputs": [
    {
     "data": {
      "text/plain": [
       "15"
      ]
     },
     "execution_count": 5,
     "metadata": {},
     "output_type": "execute_result"
    }
   ],
   "source": [
    "len(data)"
   ]
  },
  {
   "cell_type": "code",
   "execution_count": 6,
   "id": "6ee215f9",
   "metadata": {},
   "outputs": [
    {
     "data": {
      "text/plain": [
       "1.2386666666666666"
      ]
     },
     "execution_count": 6,
     "metadata": {},
     "output_type": "execute_result"
    }
   ],
   "source": [
    "mean_data"
   ]
  },
  {
   "cell_type": "code",
   "execution_count": 7,
   "id": "69a6f4c6",
   "metadata": {},
   "outputs": [
    {
     "data": {
      "text/plain": [
       "0.18661427836285438"
      ]
     },
     "execution_count": 7,
     "metadata": {},
     "output_type": "execute_result"
    }
   ],
   "source": [
    "std_data"
   ]
  },
  {
   "cell_type": "code",
   "execution_count": 8,
   "id": "7b0de150",
   "metadata": {},
   "outputs": [],
   "source": [
    "# a. Confidence interval using sample standard deviation\n",
    "confidence_level = 0.99\n",
    "alpha = 1 - confidence_level\n",
    "t_value = t.ppf(1 - alpha/2, df=len(data) - 1)\n",
    "margin_of_error = t_value * std_data / np.sqrt(len(data))\n",
    "confidence_interval_a = (mean_data - margin_of_error, mean_data + margin_of_error)"
   ]
  },
  {
   "cell_type": "code",
   "execution_count": 9,
   "id": "fc7783ba",
   "metadata": {},
   "outputs": [
    {
     "data": {
      "text/plain": [
       "(1.0952316686385626, 1.3821016646947706)"
      ]
     },
     "execution_count": 9,
     "metadata": {},
     "output_type": "execute_result"
    }
   ],
   "source": [
    "confidence_interval_a"
   ]
  },
  {
   "cell_type": "code",
   "execution_count": 10,
   "id": "26830583",
   "metadata": {},
   "outputs": [],
   "source": [
    "# b. Confidence interval using known population standard deviation\n",
    "population_std = 0.2\n",
    "z_value = t.ppf(1 - alpha/2, df=len(data) - 1)  # Using t-distribution for small sample size\n",
    "margin_of_error_b = z_value * population_std / np.sqrt(len(data))\n",
    "confidence_interval_b = (mean_data - margin_of_error_b, mean_data + margin_of_error_b)"
   ]
  },
  {
   "cell_type": "code",
   "execution_count": 11,
   "id": "938438e7",
   "metadata": {},
   "outputs": [
    {
     "data": {
      "text/plain": [
       "(1.0849431688867082, 1.392390164446625)"
      ]
     },
     "execution_count": 11,
     "metadata": {},
     "output_type": "execute_result"
    }
   ],
   "source": [
    "confidence_interval_b"
   ]
  },
  {
   "cell_type": "code",
   "execution_count": 12,
   "id": "2ffe4924",
   "metadata": {},
   "outputs": [
    {
     "name": "stdout",
     "output_type": "stream",
     "text": [
      "confidence_interval_a: (1.0952316686385626, 1.3821016646947706)\n",
      "confidence_interval_b: (1.0849431688867082, 1.392390164446625)\n"
     ]
    }
   ],
   "source": [
    "print(f'confidence_interval_a: {confidence_interval_a}')\n",
    "print(f'confidence_interval_b: {confidence_interval_b}')"
   ]
  },
  {
   "cell_type": "code",
   "execution_count": null,
   "id": "33f0c502",
   "metadata": {},
   "outputs": [],
   "source": []
  }
 ],
 "metadata": {
  "kernelspec": {
   "display_name": "Python 3 (ipykernel)",
   "language": "python",
   "name": "python3"
  },
  "language_info": {
   "codemirror_mode": {
    "name": "ipython",
    "version": 3
   },
   "file_extension": ".py",
   "mimetype": "text/x-python",
   "name": "python",
   "nbconvert_exporter": "python",
   "pygments_lexer": "ipython3",
   "version": "3.10.9"
  }
 },
 "nbformat": 4,
 "nbformat_minor": 5
}
