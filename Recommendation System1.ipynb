{
 "cells": [
  {
   "cell_type": "markdown",
   "id": "56d98b49",
   "metadata": {},
   "source": [
    "# Recommendation System\n"
   ]
  },
  {
   "cell_type": "code",
   "execution_count": 1,
   "id": "962281d4",
   "metadata": {},
   "outputs": [],
   "source": [
    "import pandas as pd\n",
    "import numpy as np\n",
    "from sklearn.metrics.pairwise import cosine_similarity\n",
    "from sklearn.model_selection import train_test_split\n",
    "from sklearn.metrics import precision_score, recall_score, f1_score\n",
    "from sklearn.preprocessing import MultiLabelBinarizer, StandardScaler"
   ]
  },
  {
   "cell_type": "code",
   "execution_count": 2,
   "id": "54d59d84",
   "metadata": {},
   "outputs": [
    {
     "name": "stdout",
     "output_type": "stream",
     "text": [
      "       anime_id                                               name  \\\n",
      "0         32281                                     Kimi no Na wa.   \n",
      "1          5114                   Fullmetal Alchemist: Brotherhood   \n",
      "2         28977                                           Gintama°   \n",
      "3          9253                                        Steins;Gate   \n",
      "4          9969                                      Gintama&#039;   \n",
      "...         ...                                                ...   \n",
      "12289      9316       Toushindai My Lover: Minami tai Mecha-Minami   \n",
      "12290      5543                                        Under World   \n",
      "12291      5621                     Violence Gekiga David no Hoshi   \n",
      "12292      6133  Violence Gekiga Shin David no Hoshi: Inma Dens...   \n",
      "12293     26081                   Yasuji no Pornorama: Yacchimae!!   \n",
      "\n",
      "                                                   genre   type episodes  \\\n",
      "0                   Drama, Romance, School, Supernatural  Movie        1   \n",
      "1      Action, Adventure, Drama, Fantasy, Magic, Mili...     TV       64   \n",
      "2      Action, Comedy, Historical, Parody, Samurai, S...     TV       51   \n",
      "3                                       Sci-Fi, Thriller     TV       24   \n",
      "4      Action, Comedy, Historical, Parody, Samurai, S...     TV       51   \n",
      "...                                                  ...    ...      ...   \n",
      "12289                                             Hentai    OVA        1   \n",
      "12290                                             Hentai    OVA        1   \n",
      "12291                                             Hentai    OVA        4   \n",
      "12292                                             Hentai    OVA        1   \n",
      "12293                                             Hentai  Movie        1   \n",
      "\n",
      "       rating  members  \n",
      "0        9.37   200630  \n",
      "1        9.26   793665  \n",
      "2        9.25   114262  \n",
      "3        9.17   673572  \n",
      "4        9.16   151266  \n",
      "...       ...      ...  \n",
      "12289    4.15      211  \n",
      "12290    4.28      183  \n",
      "12291    4.88      219  \n",
      "12292    4.98      175  \n",
      "12293    5.46      142  \n",
      "\n",
      "[12294 rows x 7 columns]\n"
     ]
    }
   ],
   "source": [
    "# Load the dataset\n",
    "anime_data = pd.read_csv(r\"anime.csv\")\n",
    "print(anime_data)"
   ]
  },
  {
   "cell_type": "code",
   "execution_count": 3,
   "id": "8f6e8e60",
   "metadata": {},
   "outputs": [],
   "source": [
    "# Data Preprocessing\n",
    "\n",
    "# Handle missing values by filling them or dropping\n",
    "anime_data['genre'].fillna('Unknown', inplace=True)\n",
    "anime_data['type'].fillna('Unknown', inplace=True)\n",
    "anime_data['rating'].fillna(anime_data['rating'].mean(), inplace=True)"
   ]
  },
  {
   "cell_type": "code",
   "execution_count": 4,
   "id": "0f013e13",
   "metadata": {},
   "outputs": [
    {
     "name": "stdout",
     "output_type": "stream",
     "text": [
      "0                   [Drama, Romance, School, Supernatural]\n",
      "1        [Action, Adventure, Drama, Fantasy, Magic, Mil...\n",
      "2        [Action, Comedy, Historical, Parody, Samurai, ...\n",
      "3                                       [Sci-Fi, Thriller]\n",
      "4        [Action, Comedy, Historical, Parody, Samurai, ...\n",
      "                               ...                        \n",
      "12289                                             [Hentai]\n",
      "12290                                             [Hentai]\n",
      "12291                                             [Hentai]\n",
      "12292                                             [Hentai]\n",
      "12293                                             [Hentai]\n",
      "Name: genre, Length: 12294, dtype: object\n",
      "MultiLabelBinarizer()\n",
      "[[0 0 0 ... 0 0 0]\n",
      " [1 1 0 ... 0 0 0]\n",
      " [1 0 0 ... 0 0 0]\n",
      " ...\n",
      " [0 0 0 ... 0 0 0]\n",
      " [0 0 0 ... 0 0 0]\n",
      " [0 0 0 ... 0 0 0]]\n"
     ]
    }
   ],
   "source": [
    "# Ensure each genre entry is a string before splitting it into a list\n",
    "anime_data['genre'] = anime_data['genre'].apply(lambda x: x if isinstance(x, list) else str(x).split(', '))\n",
    "\n",
    "# Convert genres into a one-hot encoding (multi-label binarization)\n",
    "mlb = MultiLabelBinarizer()\n",
    "genre_encoded = mlb.fit_transform(anime_data['genre'])\n",
    "print(anime_data['genre'])\n",
    "print(mlb)\n",
    "print(genre_encoded)"
   ]
  },
  {
   "cell_type": "code",
   "execution_count": 5,
   "id": "eb9ae733",
   "metadata": {},
   "outputs": [
    {
     "name": "stdout",
     "output_type": "stream",
     "text": [
      "[[ 2.84753513  3.33024137]\n",
      " [ 2.73937967 14.14840622]\n",
      " [ 2.72954735  1.75471335]\n",
      " ...\n",
      " [-1.56717438 -0.32566298]\n",
      " [-1.46885123 -0.32646563]\n",
      " [-0.9969001  -0.32706762]]\n",
      "StandardScaler()\n"
     ]
    }
   ],
   "source": [
    "# Normalize numerical features: rating and members\n",
    "scaler = StandardScaler()\n",
    "rating_scaled = scaler.fit_transform(anime_data[['rating', 'members']])\n",
    "print(rating_scaled)\n",
    "print(scaler)"
   ]
  },
  {
   "cell_type": "code",
   "execution_count": 6,
   "id": "66c070a7",
   "metadata": {},
   "outputs": [
    {
     "name": "stdout",
     "output_type": "stream",
     "text": [
      "[[ 0.          0.          0.         ...  0.          2.84753513\n",
      "   3.33024137]\n",
      " [ 1.          1.          0.         ...  0.          2.73937967\n",
      "  14.14840622]\n",
      " [ 1.          0.          0.         ...  0.          2.72954735\n",
      "   1.75471335]\n",
      " ...\n",
      " [ 0.          0.          0.         ...  0.         -1.56717438\n",
      "  -0.32566298]\n",
      " [ 0.          0.          0.         ...  0.         -1.46885123\n",
      "  -0.32646563]\n",
      " [ 0.          0.          0.         ...  0.         -0.9969001\n",
      "  -0.32706762]]\n"
     ]
    }
   ],
   "source": [
    "# Combine the genre and rating features\n",
    "features = np.hstack([genre_encoded, rating_scaled])\n",
    "print(features)"
   ]
  },
  {
   "cell_type": "code",
   "execution_count": 7,
   "id": "5ecc9cff",
   "metadata": {},
   "outputs": [],
   "source": [
    "def recommend_anime(anime_name, anime_data, features, threshold=0.5):\n",
    "    # Find the index of the anime\n",
    "    anime_idx = anime_data[anime_data['name'] == anime_name].index[0]\n",
    "    \n",
    "    # Compute cosine similarity between the target anime and all others\n",
    "    similarity_scores = cosine_similarity([features[anime_idx]], features)[0]\n",
    "    \n",
    "    # Get indices of anime with similarity scores above the threshold\n",
    "    similar_indices = np.where(similarity_scores > threshold)[0]\n",
    "    \n",
    "    # Sort these indices based on similarity scores (excluding the first one since it's the anime itself)\n",
    "    similar_indices = similar_indices[similar_indices != anime_idx]\n",
    "    sorted_indices = similar_indices[np.argsort(similarity_scores[similar_indices])[::-1]]\n",
    "    \n",
    "    # Recommend these anime\n",
    "    return anime_data.iloc[sorted_indices][['name', 'genre', 'rating']]"
   ]
  },
  {
   "cell_type": "code",
   "execution_count": 8,
   "id": "8d1e972b",
   "metadata": {},
   "outputs": [
    {
     "name": "stdout",
     "output_type": "stream",
     "text": [
      "                                                   name  \\\n",
      "504   Clannad: After Story - Mou Hitotsu no Sekai, K...   \n",
      "60                                   Hotarubi no Mori e   \n",
      "1201                     Angel Beats!: Another Epilogue   \n",
      "219   Yahari Ore no Seishun Love Comedy wa Machigatt...   \n",
      "337                                        Kanon (2006)   \n",
      "...                                                 ...   \n",
      "770                         One Punch Man: Road to Hero   \n",
      "3192                                        Zombie-Loan   \n",
      "3560  Naruto Movie 3: Dai Koufun! Mikazuki Jima no A...   \n",
      "9                              Gintama&#039;: Enchousen   \n",
      "869                               Inu x Boku SS Special   \n",
      "\n",
      "                                                  genre  rating  \n",
      "504                            [Drama, Romance, School]    8.02  \n",
      "60               [Drama, Romance, Shoujo, Supernatural]    8.61  \n",
      "1201                      [Drama, School, Supernatural]    7.63  \n",
      "219                    [Comedy, Drama, Romance, School]    8.31  \n",
      "337       [Drama, Romance, Slice of Life, Supernatural]    8.17  \n",
      "...                                                 ...     ...  \n",
      "770   [Action, Comedy, Parody, Sci-Fi, Seinen, Super...    7.85  \n",
      "3192            [Action, Horror, Shounen, Supernatural]    7.06  \n",
      "3560                                [Action, Adventure]    6.95  \n",
      "9     [Action, Comedy, Historical, Parody, Samurai, ...    9.11  \n",
      "869                     [Comedy, Shounen, Supernatural]    7.79  \n",
      "\n",
      "[832 rows x 3 columns]\n"
     ]
    }
   ],
   "source": [
    "# Example of recommendation\n",
    "recommendations = recommend_anime('Kimi no Na wa.', anime_data, features, threshold=0.6)\n",
    "print(recommendations)"
   ]
  },
  {
   "cell_type": "code",
   "execution_count": 9,
   "id": "4495679e",
   "metadata": {},
   "outputs": [],
   "source": [
    "# Evaluation\n",
    "\n",
    "# Since this is a recommendation system, evaluation metrics are different. We simulate a train-test split.\n",
    "train_df, test_df, train_features, test_features = train_test_split(anime_data, features, test_size=0.2, random_state=42)"
   ]
  },
  {
   "cell_type": "code",
   "execution_count": 10,
   "id": "73194de6",
   "metadata": {},
   "outputs": [],
   "source": [
    "def evaluate_recommendations(test_df, test_features, train_df, train_features, threshold=0.5):\n",
    "    y_true = []\n",
    "    y_pred = []\n",
    "    \n",
    "    for idx in range(len(test_df)):\n",
    "        anime_name = test_df.iloc[idx]['name']\n",
    "        # Consider the anime in the test set as the ground truth relevant item\n",
    "        y_true.append(1)\n",
    "        \n",
    "        # Generate recommendations from the training set\n",
    "        recommendations = recommend_anime(anime_name, train_df, train_features, threshold=threshold)\n",
    "        \n",
    "        # Check if the anime was recommended (this is a simplification)\n",
    "        if any(test_df.iloc[idx]['name'] == rec for rec in recommendations['name']):\n",
    "            y_pred.append(1)\n",
    "        else:\n",
    "            y_pred.append(0)\n",
    "    \n",
    "    precision = precision_score(y_true, y_pred, average='binary')\n",
    "    recall = recall_score(y_true, y_pred, average='binary')\n",
    "    f1 = f1_score(y_true, y_pred, average='binary')\n",
    "    \n",
    "    return precision, recall, f1"
   ]
  },
  {
   "cell_type": "code",
   "execution_count": 11,
   "id": "c6a26ede",
   "metadata": {},
   "outputs": [],
   "source": [
    "def recommend_anime(anime_name, anime_data, features, threshold=0.5):\n",
    "    # Find the index of the anime\n",
    "    matching_anime = anime_data[anime_data['name'] == anime_name]\n",
    "    \n",
    "    if matching_anime.empty:\n",
    "        raise ValueError(f\"Anime '{anime_name}' not found in the dataset.\")\n",
    "    \n",
    "    anime_idx = matching_anime.index[0]\n",
    "    \n",
    "    # Compute cosine similarity between the target anime and all others\n",
    "    similarity_scores = cosine_similarity([features[anime_idx]], features)[0]\n",
    "    \n",
    "    # Continue with the recommendation logic..."
   ]
  },
  {
   "cell_type": "code",
   "execution_count": 12,
   "id": "5fdf656a",
   "metadata": {},
   "outputs": [],
   "source": [
    "from sklearn.metrics import precision_score, recall_score, f1_score\n",
    "\n",
    "def evaluate_recommendations(test_df, test_features, train_df, train_features, threshold=0.6):\n",
    "    y_true = []\n",
    "    y_pred = []\n",
    "    \n",
    "    for idx, row in test_df.iterrows():\n",
    "        anime_name = row['name']\n",
    "        \n",
    "        # True label (we assume the anime is relevant to itself)\n",
    "        y_true.append(1)\n",
    "        \n",
    "        try:\n",
    "            # Generate recommendations from the training set\n",
    "            recommendations = recommend_anime(anime_name, train_df, train_features, threshold=threshold)\n",
    "            \n",
    "            # Check if the anime was recommended (this is a simplification)\n",
    "            is_recommended = any(test_df.iloc[idx]['name'] == rec for rec in recommendations['name'])\n",
    "            y_pred.append(1 if is_recommended else 0)\n",
    "        \n",
    "        except ValueError:\n",
    "            # If the anime is not found in the dataset, we consider it not recommended\n",
    "            y_pred.append(0)\n",
    "    \n",
    "    # Calculate precision, recall, and F1-score\n",
    "    precision = precision_score(y_true, y_pred)\n",
    "    recall = recall_score(y_true, y_pred)\n",
    "    f1 = f1_score(y_true, y_pred)\n",
    "    \n",
    "    return precision, recall, f1"
   ]
  },
  {
   "cell_type": "markdown",
   "id": "5b2aee51",
   "metadata": {},
   "source": [
    "**Interview Questions:**\n",
    "\n",
    "- 1. Can you explain the difference between user-based and item-based   collaborative filtering?\n",
    "\n",
    "   -User-based Collaborative Filtering:\n",
    "   - In user-based collaborative filtering, we predict a user’s preferences        based on the preferences of similar users. It identifies pairs or groups of    users who share similar tastes, then recommends items that these similar        users liked but the target user hasn't yet interacted with.\n",
    "   - Example: If User A and User B have similar preferences and User A likes      Item X, the algorithm will likely recommend Item X to User B.\n",
    "   - Advantages: Works well when there are many users with similar preferences,    especially in diverse datasets.\n",
    "   - Challenges: Struggles when the user base is large, as finding similarities    among thousands or millions of users can be computationally demanding.\n",
    "\n",
    "   -Item-based Collaborative Filtering:\n",
    "   - In item-based collaborative filtering, recommendations are based on the      similarities between items rather than users. It calculates similarity          between items based on users’ ratings, then recommends items that are          similar to those a user has liked.\n",
    "   - Example: If Item X and Item Y are similar, and a user likes Item X,          they’ll likely be recommended Item Y.\n",
    "   - Advantages: Tends to be more stable, as item similarities are often less      variable than user preferences. It also scales well in environments with        many items.\n",
    "   - Challenges: Doesn’t handle new or niche items as effectively since it        relies on existing user-item interactions.\n",
    "\n",
    "\n",
    "- 2. What is collaborative filtering, and how does it work?\n",
    "\n",
    "  -Collaborative Filtering:\n",
    "  Collaborative filtering is a recommendation technique used in recommendation   systems to suggest items to users based on past interactions. It relies on     user-item interaction data, such as ratings, clicks, or purchase history, to   find patterns among users and items.\n",
    "\n",
    "\n",
    "**How It Works:**\n",
    "\n",
    "\n",
    "- 1. Data Collection: The system collects data on user interactions with items   (e.g., ratings, clicks, purchases).\n",
    "- 2. Similarity Calculation:\n",
    "   - In user-based filtering, it calculates similarities between users (often      using metrics like cosine similarity or Pearson correlation).\n",
    "   - In item-based filtering, it calculates similarities between items.\n",
    "- 3. Recommendations:\n",
    "   - For user-based filtering, it recommends items liked by similar users.\n",
    "   - For item-based filtering, it recommends items similar to those the user      has liked or interacted with.\n",
    "- 4. Evaluation and Updating: The system updates recommendations continuously based on new user interactions.\n",
    "\n",
    "**Advantages:**\n",
    "\n",
    "   - No Need for Item Metadata: Only relies on user-item interactions, making      it flexible across domains.\n",
    "\n",
    "   - Accurate Recommendations: Captures patterns effectively in environments      with a lot of user-item interaction data.\n",
    "\n",
    "**Challenges:**\n",
    " \n",
    "   - Cold Start Problem: Limited by the availability of user or item              interactions, making it difficult to recommend items to new users or            recommend new items.\n",
    "\n",
    "   - Data Sparsity: Requires enough interactions to work effectively, so sparse    datasets can be problematic.\n"
   ]
  },
  {
   "cell_type": "code",
   "execution_count": null,
   "id": "9a655d37",
   "metadata": {},
   "outputs": [],
   "source": []
  },
  {
   "cell_type": "code",
   "execution_count": null,
   "id": "63b99475",
   "metadata": {},
   "outputs": [],
   "source": []
  }
 ],
 "metadata": {
  "kernelspec": {
   "display_name": "Python 3 (ipykernel)",
   "language": "python",
   "name": "python3"
  },
  "language_info": {
   "codemirror_mode": {
    "name": "ipython",
    "version": 3
   },
   "file_extension": ".py",
   "mimetype": "text/x-python",
   "name": "python",
   "nbconvert_exporter": "python",
   "pygments_lexer": "ipython3",
   "version": "3.10.9"
  }
 },
 "nbformat": 4,
 "nbformat_minor": 5
}
